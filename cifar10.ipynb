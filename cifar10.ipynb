{
  "nbformat": 4,
  "nbformat_minor": 0,
  "metadata": {
    "colab": {
      "provenance": [],
      "authorship_tag": "ABX9TyN8byauRkrmdqo23+VUEfof",
      "include_colab_link": true
    },
    "kernelspec": {
      "name": "python3",
      "display_name": "Python 3"
    },
    "language_info": {
      "name": "python"
    }
  },
  "cells": [
    {
      "cell_type": "markdown",
      "metadata": {
        "id": "view-in-github",
        "colab_type": "text"
      },
      "source": [
        "<a href=\"https://colab.research.google.com/github/rexbrandy/cifar10_classification/blob/main/cifar10.ipynb\" target=\"_parent\"><img src=\"https://colab.research.google.com/assets/colab-badge.svg\" alt=\"Open In Colab\"/></a>"
      ]
    },
    {
      "cell_type": "markdown",
      "source": [
        "## DataLoaders"
      ],
      "metadata": {
        "id": "8ALFrTxrOuQv"
      }
    },
    {
      "cell_type": "code",
      "execution_count": 8,
      "metadata": {
        "id": "1xgQ_dL7M9u9"
      },
      "outputs": [],
      "source": [
        "import torch\n",
        "from torchvision import transforms\n",
        "from torchvision import datasets\n",
        "from torch.utils.data import DataLoader\n",
        "\n",
        "CLASSES = ('plane', 'car', 'bird', 'cat', 'deer', 'dog', 'frog', 'horse', 'ship', 'truck')\n",
        "\n",
        "def get_dataloaders(batch_size=5, show_images=True):\n",
        "\n",
        "    transform = transforms.Compose(\n",
        "        [transforms.ToTensor(),\n",
        "         transforms.Normalize((0.5, 0.5, 0.5), (0.5, 0.5, 0.5))]\n",
        "    )\n",
        "\n",
        "    train_dataset = datasets.CIFAR10(\n",
        "        root='./data',\n",
        "        train=True,\n",
        "        download=True,\n",
        "        transform=transform\n",
        "    )\n",
        "\n",
        "    test_dataset = datasets.CIFAR10(\n",
        "        root='./data',\n",
        "        train=True,\n",
        "        download=True,\n",
        "        transform=transform\n",
        "    )\n",
        "\n",
        "    train_dataloader = DataLoader(train_dataset, batch_size=batch_size, shuffle=True)\n",
        "    test_dataloader = DataLoader(test_dataset, batch_size=batch_size, shuffle=True)\n",
        "\n",
        "    if show_images:\n",
        "        visualize_data(train_dataset)\n",
        "\n",
        "    return train_dataloader, test_dataloader"
      ]
    },
    {
      "cell_type": "code",
      "source": [
        "import matplotlib.pyplot as plt\n",
        "import numpy as np\n",
        "\n",
        "def visualize_data(training_data):\n",
        "    figure = plt.figure(figsize=(8, 8))\n",
        "    cols, rows = 5, 2\n",
        "    for i in range(1, cols * rows + 1):\n",
        "\n",
        "        sample_idx = torch.randint(len(training_data), size=(1,)).item()\n",
        "\n",
        "        img, label = training_data[sample_idx]\n",
        "\n",
        "        figure.add_subplot(rows, cols, i)\n",
        "        plt.title(CLASSES[label])\n",
        "        plt.axis(\"off\")\n",
        "\n",
        "        img = img / 2 + 0.5\n",
        "        np_img = np.transpose(img, (1, 2, 0))\n",
        "        plt.imshow(np_img)\n",
        "    plt.show()"
      ],
      "metadata": {
        "id": "52FTvWVmkQam"
      },
      "execution_count": 6,
      "outputs": []
    },
    {
      "cell_type": "markdown",
      "source": [
        "# Models"
      ],
      "metadata": {
        "id": "cFMv_YE0mpjJ"
      }
    },
    {
      "cell_type": "code",
      "source": [
        "from torch import nn\n",
        "\n",
        "class CNN(nn.Module):\n",
        "    def __init__(self):\n",
        "        super(CNN, self).__init__()\n",
        "\n",
        "        pass\n",
        "\n",
        "    def forward(self):\n",
        "        pass"
      ],
      "metadata": {
        "id": "3kz35D47m9ti"
      },
      "execution_count": null,
      "outputs": []
    },
    {
      "cell_type": "markdown",
      "source": [
        "# Training"
      ],
      "metadata": {
        "id": "yC3rQn9PmtbN"
      }
    },
    {
      "cell_type": "code",
      "source": [
        "def train():\n",
        "    pass"
      ],
      "metadata": {
        "id": "lN1MuLfHnkxc"
      },
      "execution_count": null,
      "outputs": []
    },
    {
      "cell_type": "markdown",
      "source": [
        "# Evaluate"
      ],
      "metadata": {
        "id": "ekBLyy2PmwR7"
      }
    },
    {
      "cell_type": "code",
      "source": [
        "def test():\n",
        "    pass"
      ],
      "metadata": {
        "id": "qb700-50nnMb"
      },
      "execution_count": null,
      "outputs": []
    },
    {
      "cell_type": "markdown",
      "source": [],
      "metadata": {
        "id": "37ppzk1tm0Pz"
      }
    },
    {
      "cell_type": "markdown",
      "source": [
        "# Main Loop"
      ],
      "metadata": {
        "id": "Wi5AMhX8npZ-"
      }
    },
    {
      "cell_type": "code",
      "source": [
        "def main():\n",
        "    pass"
      ],
      "metadata": {
        "id": "t0ZWVGJnnrDD"
      },
      "execution_count": null,
      "outputs": []
    }
  ]
}