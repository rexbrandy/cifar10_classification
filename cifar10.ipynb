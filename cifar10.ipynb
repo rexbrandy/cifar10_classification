{
  "nbformat": 4,
  "nbformat_minor": 0,
  "metadata": {
    "colab": {
      "provenance": [],
      "gpuType": "T4",
      "authorship_tag": "ABX9TyPc9p6MMQpnkyc5my5p/1jC",
      "include_colab_link": true
    },
    "kernelspec": {
      "name": "python3",
      "display_name": "Python 3"
    },
    "language_info": {
      "name": "python"
    },
    "accelerator": "GPU"
  },
  "cells": [
    {
      "cell_type": "markdown",
      "metadata": {
        "id": "view-in-github",
        "colab_type": "text"
      },
      "source": [
        "<a href=\"https://colab.research.google.com/github/rexbrandy/cifar10_classification/blob/main/cifar10.ipynb\" target=\"_parent\"><img src=\"https://colab.research.google.com/assets/colab-badge.svg\" alt=\"Open In Colab\"/></a>"
      ]
    },
    {
      "cell_type": "markdown",
      "source": [
        "## DataLoaders"
      ],
      "metadata": {
        "id": "8ALFrTxrOuQv"
      }
    },
    {
      "cell_type": "code",
      "source": [
        "import torch\n",
        "from torchvision import transforms\n",
        "from torchvision import datasets\n",
        "from torch.utils.data import DataLoader\n",
        "\n",
        "device = torch.device('cuda:0' if torch.cuda.is_available() else 'cpu')\n",
        "print(device)\n",
        "\n",
        "CLASSES = ('plane', 'car', 'bird', 'cat', 'deer', 'dog', 'frog', 'horse', 'ship', 'truck')"
      ],
      "metadata": {
        "id": "v4kAmeDrz8RG",
        "outputId": "a80fce7a-50d0-4e8d-dcf0-b39053255ccb",
        "colab": {
          "base_uri": "https://localhost:8080/"
        }
      },
      "execution_count": 1,
      "outputs": [
        {
          "output_type": "stream",
          "name": "stdout",
          "text": [
            "cuda:0\n"
          ]
        }
      ]
    },
    {
      "cell_type": "code",
      "execution_count": 2,
      "metadata": {
        "id": "1xgQ_dL7M9u9"
      },
      "outputs": [],
      "source": [
        "def get_dataloaders(batch_size=5, show_images=True):\n",
        "\n",
        "    transform = transforms.Compose(\n",
        "        [transforms.ToTensor(),\n",
        "         transforms.Normalize((0.5, 0.5, 0.5), (0.5, 0.5, 0.5))]\n",
        "    )\n",
        "\n",
        "    train_dataset = datasets.CIFAR10(\n",
        "        root='./data',\n",
        "        train=True,\n",
        "        download=True,\n",
        "        transform=transform\n",
        "    )\n",
        "\n",
        "    test_dataset = datasets.CIFAR10(\n",
        "        root='./data',\n",
        "        train=True,\n",
        "        download=True,\n",
        "        transform=transform\n",
        "    )\n",
        "\n",
        "    print(train_dataset)\n",
        "\n",
        "    train_dataloader = DataLoader(train_dataset, batch_size=batch_size, shuffle=True)\n",
        "    test_dataloader = DataLoader(test_dataset, batch_size=batch_size, shuffle=True)\n",
        "\n",
        "    if show_images:\n",
        "        visualize_data(train_dataset)\n",
        "\n",
        "    return train_dataloader, test_dataloader"
      ]
    },
    {
      "cell_type": "code",
      "source": [
        "import matplotlib.pyplot as plt\n",
        "import numpy as np\n",
        "\n",
        "def visualize_data(training_data):\n",
        "    figure = plt.figure(figsize=(8, 8))\n",
        "    cols, rows = 5, 1\n",
        "    for i in range(1, cols * rows + 1):\n",
        "\n",
        "        sample_idx = torch.randint(len(training_data), size=(1,)).item()\n",
        "\n",
        "        img, label = training_data[sample_idx]\n",
        "\n",
        "        figure.add_subplot(rows, cols, i)\n",
        "        plt.title(CLASSES[label])\n",
        "        plt.axis(\"off\")\n",
        "\n",
        "        img = img / 2 + 0.5\n",
        "        np_img = np.transpose(img, (1, 2, 0))\n",
        "        plt.imshow(np_img)\n",
        "    plt.show()"
      ],
      "metadata": {
        "id": "52FTvWVmkQam"
      },
      "execution_count": 3,
      "outputs": []
    },
    {
      "cell_type": "markdown",
      "source": [
        "# Models\n",
        "\n",
        "In this model we will implement a convolutional neural network that is used to process the images.\n",
        "\n",
        "In this network we feed the the input first through a convolution layer then a max pooling layer and then a second convolution layer, after this it is fed through 3 linear layers.\n",
        "\n",
        "## Convolution Layer\n",
        "\n",
        "Convolution layers apply filters to the image that help highlight specific details that may be important during the classification task. In the following gif you can see how a convolution layer is applied to a matrix.\n",
        "\n",
        "![Convolution](https://miro.medium.com/v2/resize:fit:400/format:webp/1*rRT3tkMOKX-8c7nqW_iHLQ.gif)\n",
        "\n",
        "## Max pooling\n",
        "\n",
        "Max pooling effects the image by taking groups of pixel and aggregating them together to get a reduced version of the image that retains the important features.\n",
        "\n",
        "![Max pooling](https://miro.medium.com/v2/resize:fit:4800/format:webp/1*76nyDxRFl2ZUseO6ymEXAw.png)\n",
        "\n",
        "## Calculating convolution and max pooling\n",
        "\n",
        "To calculate the output of convolution and pooling layers we use this formula\n",
        "\n",
        "**[(W−K+2P)/S]+1**\n",
        "\n",
        "W is the input volume\n",
        "\n",
        "K is the Kernel size\n",
        "\n",
        "P is the padding\n",
        "\n",
        "S is the stride\n",
        "\n"
      ],
      "metadata": {
        "id": "cFMv_YE0mpjJ"
      }
    },
    {
      "cell_type": "markdown",
      "source": [],
      "metadata": {
        "id": "SY4JVUQihP7l"
      }
    },
    {
      "cell_type": "code",
      "source": [
        "import torch\n",
        "from torch import nn\n",
        "from torch.nn import functional as f\n",
        "\n",
        "class CNN(nn.Module):\n",
        "    def __init__(self):\n",
        "        super(CNN, self).__init__()\n",
        "        self.conv1 = nn.Conv2d(in_channels=3, out_channels=6, kernel_size=5)\n",
        "        self.pool = nn.MaxPool2d(kernel_size=2, stride=2)\n",
        "        self.conv2 = nn.Conv2d(in_channels=6, out_channels=16, kernel_size=5)\n",
        "        self.fc1 = nn.Linear(16 * 5 * 5, 120)\n",
        "        self.fc2 = nn.Linear(120, 60)\n",
        "        self.fc3 = nn.Linear(60, 10)\n",
        "\n",
        "    def forward(self, x):\n",
        "        output = self.pool(f.relu(self.conv1(x)))\n",
        "        output = self.pool(f.relu(self.conv2(output)))\n",
        "\n",
        "        output = torch.flatten(output, 1) # flatten all dimensions except batch size\n",
        "\n",
        "        output = f.relu(self.fc1(output))\n",
        "        output = f.relu(self.fc2(output))\n",
        "        output = self.fc3(output)\n",
        "        return output\n",
        "\n"
      ],
      "metadata": {
        "id": "3kz35D47m9ti"
      },
      "execution_count": 4,
      "outputs": []
    },
    {
      "cell_type": "markdown",
      "source": [
        "# Training"
      ],
      "metadata": {
        "id": "yC3rQn9PmtbN"
      }
    },
    {
      "cell_type": "code",
      "source": [
        "def train(n_epochs, train_dataloader, cnn, optim, criterion):\n",
        "    for epoch in range(n_epochs):\n",
        "        running_loss = 0.0\n",
        "\n",
        "        for i, batch in enumerate(train_dataloader):\n",
        "            inputs, labels = batch\n",
        "            inputs = inputs.to(device)\n",
        "            labels = labels.to(device)\n",
        "\n",
        "            optim.zero_grad()\n",
        "            outputs = cnn(inputs)\n",
        "            loss = criterion(outputs, labels)\n",
        "\n",
        "            loss.backward()\n",
        "            optim.step()\n",
        "\n",
        "            running_loss += loss.item()\n",
        "\n",
        "            if i % 2000 == 1999:\n",
        "                print(f'Epoch: {epoch} Batch: {i+1} Loss: {running_loss/2000:.3f}')\n",
        "                running_loss = 0\n",
        "    print('Training Complete')\n"
      ],
      "metadata": {
        "id": "lN1MuLfHnkxc"
      },
      "execution_count": 13,
      "outputs": []
    },
    {
      "cell_type": "markdown",
      "source": [
        "# Evaluate"
      ],
      "metadata": {
        "id": "ekBLyy2PmwR7"
      }
    },
    {
      "cell_type": "code",
      "source": [
        "def test(classes, test_dataloader, cnn):\n",
        "    correct = {classname: 0 for classname in classes}\n",
        "    total = {classname: 0 for classname in classes}\n",
        "\n",
        "    with torch.no_grad():\n",
        "        for batch in test_dataloader:\n",
        "            inputs, labels = batch\n",
        "            inputs = input.to(device)\n",
        "            labels = labels.to(device)\n",
        "\n",
        "            outputs = cnn(inputs)\n",
        "            _, predictions = torch.max(outputs, 1)\n",
        "\n",
        "            for label, prediction in zip(labels, predictions):\n",
        "                if label == prediction:\n",
        "                    correct[label] += 1\n",
        "                total[label] += 1\n",
        "\n",
        "        # print accuracy for each class\n",
        "        for classname, correct_count in correct.items():\n",
        "            accuracy = 100 * float(correct_count) / total[classname]\n",
        "            print(f'Accuracy for class: {classname:5s} is {accuracy:.1f} %')\n"
      ],
      "metadata": {
        "id": "qb700-50nnMb"
      },
      "execution_count": 11,
      "outputs": []
    },
    {
      "cell_type": "markdown",
      "source": [
        "# Main Loop"
      ],
      "metadata": {
        "id": "Wi5AMhX8npZ-"
      }
    },
    {
      "cell_type": "code",
      "source": [
        "import torch.optim as optim\n",
        "\n",
        "def main(lr=0.001, epochs=10):\n",
        "    train_dataloader, test_dataloader = get_dataloaders()\n",
        "    cnn = CNN().to(device)\n",
        "    criterion = nn.CrossEntropyLoss()\n",
        "    optimizer = optim.SGD(cnn.parameters(), lr=lr, momentum=0.9)\n",
        "\n",
        "    train(epochs, train_dataloader, cnn, optimizer, criterion)\n",
        "    test(CLASSES, test_dataloader, cnn, )\n",
        "\n",
        "main()"
      ],
      "metadata": {
        "id": "t0ZWVGJnnrDD",
        "colab": {
          "base_uri": "https://localhost:8080/",
          "height": 416
        },
        "outputId": "8b01ac5f-0cd4-4648-d33d-2ca213aa173d"
      },
      "execution_count": null,
      "outputs": [
        {
          "output_type": "stream",
          "name": "stdout",
          "text": [
            "Files already downloaded and verified\n",
            "Files already downloaded and verified\n",
            "Dataset CIFAR10\n",
            "    Number of datapoints: 50000\n",
            "    Root location: ./data\n",
            "    Split: Train\n",
            "    StandardTransform\n",
            "Transform: Compose(\n",
            "               ToTensor()\n",
            "               Normalize(mean=(0.5, 0.5, 0.5), std=(0.5, 0.5, 0.5))\n",
            "           )\n"
          ]
        },
        {
          "output_type": "display_data",
          "data": {
            "text/plain": [
              "<Figure size 800x800 with 5 Axes>"
            ],
            "image/png": "[encoded data removed]"
          },
          "metadata": {}
        },
        {
          "output_type": "stream",
          "name": "stdout",
          "text": [
            "Epoch: 0 Batch: 2000 Loss: 2.223\n",
            "Epoch: 0 Batch: 4000 Loss: 1.871\n",
            "Epoch: 0 Batch: 6000 Loss: 1.680\n"
          ]
        }
      ]
    }
  ]
}