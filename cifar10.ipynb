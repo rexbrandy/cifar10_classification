{
  "nbformat": 4,
  "nbformat_minor": 0,
  "metadata": {
    "colab": {
      "provenance": [],
      "gpuType": "T4",
      "authorship_tag": "ABX9TyNpZLG2W6UyEcus4lvUb6BE",
      "include_colab_link": true
    },
    "kernelspec": {
      "name": "python3",
      "display_name": "Python 3"
    },
    "language_info": {
      "name": "python"
    },
    "accelerator": "GPU"
  },
  "cells": [
    {
      "cell_type": "markdown",
      "metadata": {
        "id": "view-in-github",
        "colab_type": "text"
      },
      "source": [
        "<a href=\"https://colab.research.google.com/github/rexbrandy/cifar10_classification/blob/main/cifar10.ipynb\" target=\"_parent\"><img src=\"https://colab.research.google.com/assets/colab-badge.svg\" alt=\"Open In Colab\"/></a>"
      ]
    },
    {
      "cell_type": "markdown",
      "source": [
        "## DataLoaders"
      ],
      "metadata": {
        "id": "8ALFrTxrOuQv"
      }
    },
    {
      "cell_type": "code",
      "source": [
        "import torch\n",
        "import torchvision\n",
        "from torchvision import transforms\n",
        "from torchvision import datasets\n",
        "from torch.utils.data import DataLoader\n",
        "\n",
        "device = torch.device('cuda:0' if torch.cuda.is_available() else 'cpu')\n",
        "print(device)\n",
        "\n",
        "CLASSES = ('plane', 'car', 'bird', 'cat', 'deer', 'dog', 'frog', 'horse', 'ship', 'truck')\n",
        "MODEL_PATH = './cifar_net2.pth'"
      ],
      "metadata": {
        "colab": {
          "base_uri": "https://localhost:8080/"
        },
        "id": "v4kAmeDrz8RG",
        "outputId": "6b199dbf-346a-4acf-f716-af395d5032b3"
      },
      "execution_count": 17,
      "outputs": [
        {
          "output_type": "stream",
          "name": "stdout",
          "text": [
            "cuda:0\n"
          ]
        }
      ]
    },
    {
      "cell_type": "code",
      "execution_count": 6,
      "metadata": {
        "id": "1xgQ_dL7M9u9"
      },
      "outputs": [],
      "source": [
        "def get_dataloaders(batch_size=5, show_images=True):\n",
        "\n",
        "    transform = transforms.Compose(\n",
        "        [transforms.ToTensor(),\n",
        "         transforms.Normalize((0.5, 0.5, 0.5), (0.5, 0.5, 0.5))]\n",
        "    )\n",
        "\n",
        "    train_dataset = datasets.CIFAR10(\n",
        "        root='./data',\n",
        "        train=True,\n",
        "        download=True,\n",
        "        transform=transform\n",
        "    )\n",
        "\n",
        "    test_dataset = datasets.CIFAR10(\n",
        "        root='./data',\n",
        "        train=True,\n",
        "        download=True,\n",
        "        transform=transform\n",
        "    )\n",
        "\n",
        "    train_dataloader = DataLoader(train_dataset, batch_size=batch_size, shuffle=True)\n",
        "    test_dataloader = DataLoader(test_dataset, batch_size=batch_size, shuffle=True)\n",
        "\n",
        "    if show_images:\n",
        "        visualize_data(train_dataset)\n",
        "\n",
        "    return train_dataloader, test_dataloader"
      ]
    },
    {
      "cell_type": "code",
      "source": [
        "import matplotlib.pyplot as plt\n",
        "import numpy as np\n",
        "\n",
        "def visualize_data(training_data):\n",
        "    figure = plt.figure(figsize=(8, 8))\n",
        "    cols, rows = 5, 1\n",
        "    for i in range(1, cols * rows + 1):\n",
        "\n",
        "        sample_idx = torch.randint(len(training_data), size=(1,)).item()\n",
        "\n",
        "        img, label = training_data[sample_idx]\n",
        "\n",
        "        figure.add_subplot(rows, cols, i)\n",
        "        plt.title(CLASSES[label])\n",
        "        plt.axis(\"off\")\n",
        "\n",
        "        img = img / 2 + 0.5\n",
        "        np_img = np.transpose(img, (1, 2, 0))\n",
        "        plt.imshow(np_img)\n",
        "    plt.show()\n",
        "\n",
        "def imshow(test_dataloader):\n",
        "    images, labels = next(iter(test_dataloader))\n",
        "\n",
        "    # print images\n",
        "    img = torchvision.utils.make_grid(images)\n",
        "\n",
        "    print('GroundTruth: ', ' '.join(f'{CLASSES[labels[j]]:5s}' for j in range(4)))\n",
        "    img = img / 2 + 0.5     # unnormalize\n",
        "    npimg = img.numpy()\n",
        "    plt.imshow(np.transpose(npimg, (1, 2, 0)))\n",
        "    plt.show()"
      ],
      "metadata": {
        "id": "52FTvWVmkQam"
      },
      "execution_count": 7,
      "outputs": []
    },
    {
      "cell_type": "markdown",
      "source": [
        "# Models\n",
        "\n",
        "In this model we will implement a convolutional neural network that is used to process the images.\n",
        "\n",
        "In this network we feed the the input first through a convolution layer then a max pooling layer and then a second convolution layer, after this it is fed through 3 linear layers.\n",
        "\n",
        "## Convolution Layer\n",
        "\n",
        "Convolution layers apply filters to the image that help highlight specific details that may be important during the classification task. In the following gif you can see how a convolution layer is applied to a matrix.\n",
        "\n",
        "![Convolution](https://miro.medium.com/v2/resize:fit:400/format:webp/1*rRT3tkMOKX-8c7nqW_iHLQ.gif)\n",
        "\n",
        "## Max pooling\n",
        "\n",
        "Max pooling effects the image by taking groups of pixel and aggregating them together to get a reduced version of the image that retains the important features.\n",
        "\n",
        "![Max pooling](https://miro.medium.com/v2/resize:fit:4800/format:webp/1*76nyDxRFl2ZUseO6ymEXAw.png)\n",
        "\n",
        "## Calculating convolution and max pooling\n",
        "\n",
        "To calculate the output of convolution and pooling layers we use this formula\n",
        "\n",
        "**[(W−K+2P)/S]+1**\n",
        "\n",
        "W is the input volume\n",
        "\n",
        "K is the Kernel size\n",
        "\n",
        "P is the padding\n",
        "\n",
        "S is the stride\n",
        "\n"
      ],
      "metadata": {
        "id": "cFMv_YE0mpjJ"
      }
    },
    {
      "cell_type": "markdown",
      "source": [],
      "metadata": {
        "id": "SY4JVUQihP7l"
      }
    },
    {
      "cell_type": "code",
      "source": [
        "import torch\n",
        "from torch import nn\n",
        "from torch.nn import functional as f\n",
        "\n",
        "class CNN(nn.Module):\n",
        "    def __init__(self):\n",
        "        super(CNN, self).__init__()\n",
        "        # Convolutions\n",
        "        self.conv1 = nn.Conv2d(in_channels=3, out_channels=6, kernel_size=5)\n",
        "        self.pool = nn.MaxPool2d(kernel_size=2, stride=2)\n",
        "        self.conv2 = nn.Conv2d(in_channels=6, out_channels=16, kernel_size=5)\n",
        "\n",
        "        # Feed forward\n",
        "        '''\n",
        "        self.fc1 = nn.Linear(16 * 5 * 5, 120)\n",
        "        self.fc2 = nn.Linear(120, 60)\n",
        "        self.fc3 = nn.Linear(60, 10)\n",
        "        '''\n",
        "\n",
        "        self.fc1 = nn.Linear(16 * 5 * 5, 500)\n",
        "        self.fc2 = nn.Linear(500, 240)\n",
        "        self.fc3 = nn.Linear(240, 60)\n",
        "        self.fc4 = nn.Linear(60, 10)\n",
        "\n",
        "\n",
        "    def forward(self, x):\n",
        "        output = self.pool(f.relu(self.conv1(x)))\n",
        "        output = self.pool(f.relu(self.conv2(output)))\n",
        "\n",
        "        output = torch.flatten(output, 1) # flatten all dimensions except batch size\n",
        "\n",
        "        output = f.relu(self.fc1(output))\n",
        "        output = f.relu(self.fc2(output))\n",
        "        output = f.relu(self.fc3(output))\n",
        "        output = self.fc4(output)\n",
        "        return output\n",
        "\n"
      ],
      "metadata": {
        "id": "3kz35D47m9ti"
      },
      "execution_count": 31,
      "outputs": []
    },
    {
      "cell_type": "markdown",
      "source": [
        "# Training"
      ],
      "metadata": {
        "id": "yC3rQn9PmtbN"
      }
    },
    {
      "cell_type": "code",
      "source": [
        "def train(n_epochs, train_dataloader, cnn, optim, criterion, save_model=True):\n",
        "    best_loss = 100\n",
        "\n",
        "    for epoch in range(n_epochs):\n",
        "        running_loss = 0.0\n",
        "\n",
        "        for i, batch in enumerate(train_dataloader):\n",
        "            inputs, labels = batch\n",
        "            inputs = inputs.to(device)\n",
        "            labels = labels.to(device)\n",
        "\n",
        "            optim.zero_grad()\n",
        "            outputs = cnn(inputs)\n",
        "            loss = criterion(outputs, labels)\n",
        "\n",
        "            loss.backward()\n",
        "            optim.step()\n",
        "\n",
        "            running_loss += loss.item()\n",
        "\n",
        "            if save_model and loss.item() < best_loss:\n",
        "                best_loss = loss.item()\n",
        "                torch.save(cnn.state_dict(), MODEL_PATH)\n",
        "\n",
        "            if i % 2000 == 1999:\n",
        "                print(f'Epoch: {epoch} Batch: {i+1} Loss: {running_loss/2000:.3f}')\n",
        "                running_loss = 0\n",
        "    print()\n"
      ],
      "metadata": {
        "id": "lN1MuLfHnkxc"
      },
      "execution_count": 28,
      "outputs": []
    },
    {
      "cell_type": "markdown",
      "source": [
        "# Evaluate"
      ],
      "metadata": {
        "id": "ekBLyy2PmwR7"
      }
    },
    {
      "cell_type": "code",
      "source": [
        "def test(test_dataloader, cnn):\n",
        "    correct = {classname: 0 for classname in CLASSES}\n",
        "    total = {classname: 0 for classname in CLASSES}\n",
        "\n",
        "    with torch.no_grad():\n",
        "        for batch in test_dataloader:\n",
        "            inputs, labels = batch\n",
        "            inputs = inputs.to(device)\n",
        "            labels = labels\n",
        "\n",
        "            outputs = cnn(inputs)\n",
        "            _, predictions = torch.max(outputs, 1)\n",
        "\n",
        "            for label, prediction in zip(labels, predictions):\n",
        "                if label == prediction:\n",
        "                    correct[CLASSES[label]] += 1\n",
        "                total[CLASSES[label]] += 1\n",
        "\n",
        "        # print accuracy for each class\n",
        "        for classname, correct_count in correct.items():\n",
        "            accuracy = 100 * float(correct_count) / total[classname]\n",
        "            print(f'Accuracy for class: {classname:5s} is {accuracy:.1f} %')\n",
        "\n",
        "    print(f'Total Accuracy: {}')\n"
      ],
      "metadata": {
        "id": "qb700-50nnMb"
      },
      "execution_count": 19,
      "outputs": []
    },
    {
      "cell_type": "markdown",
      "source": [
        "# Main Loop"
      ],
      "metadata": {
        "id": "Wi5AMhX8npZ-"
      }
    },
    {
      "cell_type": "code",
      "source": [
        "import torch.optim as optim\n",
        "\n",
        "def main(lr=0.001, epochs=5, load_model=False):\n",
        "    train_dataloader, test_dataloader = get_dataloaders()\n",
        "    cnn = CNN().to(device)\n",
        "    if load_model:\n",
        "        cnn.load_state_dict(torch.load(MODEL_PATH))\n",
        "    criterion = nn.CrossEntropyLoss()\n",
        "    optimizer = optim.SGD(cnn.parameters(), lr=lr, momentum=0.9)\n",
        "\n",
        "    train(epochs, train_dataloader, cnn, optimizer, criterion, save_model=True)\n",
        "    test(test_dataloader, cnn)\n",
        "\n",
        "main()"
      ],
      "metadata": {
        "id": "t0ZWVGJnnrDD",
        "colab": {
          "base_uri": "https://localhost:8080/",
          "height": 541
        },
        "outputId": "b843bc0c-26a6-4dcd-926f-36902bc8addb"
      },
      "execution_count": null,
      "outputs": [
        {
          "output_type": "stream",
          "name": "stdout",
          "text": [
            "Files already downloaded and verified\n",
            "Files already downloaded and verified\n"
          ]
        },
        {
          "output_type": "display_data",
          "data": {
            "text/plain": [
              "<Figure size 800x800 with 5 Axes>"
            ],
            "image/png": "[encoded data removed]"
          },
          "metadata": {}
        },
        {
          "output_type": "stream",
          "name": "stdout",
          "text": [
            "Epoch: 0 Batch: 2000 Loss: 2.302\n",
            "Epoch: 0 Batch: 4000 Loss: 2.164\n",
            "Epoch: 0 Batch: 6000 Loss: 1.859\n",
            "Epoch: 0 Batch: 8000 Loss: 1.677\n",
            "Epoch: 0 Batch: 10000 Loss: 1.584\n",
            "Epoch: 1 Batch: 2000 Loss: 1.503\n",
            "Epoch: 1 Batch: 4000 Loss: 1.461\n",
            "Epoch: 1 Batch: 6000 Loss: 1.405\n",
            "Epoch: 1 Batch: 8000 Loss: 1.397\n",
            "Epoch: 1 Batch: 10000 Loss: 1.348\n",
            "Epoch: 2 Batch: 2000 Loss: 1.289\n",
            "Epoch: 2 Batch: 4000 Loss: 1.268\n",
            "Epoch: 2 Batch: 6000 Loss: 1.236\n",
            "Epoch: 2 Batch: 8000 Loss: 1.218\n",
            "Epoch: 2 Batch: 10000 Loss: 1.193\n",
            "Epoch: 3 Batch: 2000 Loss: 1.110\n",
            "Epoch: 3 Batch: 4000 Loss: 1.111\n",
            "Epoch: 3 Batch: 6000 Loss: 1.108\n",
            "Epoch: 3 Batch: 8000 Loss: 1.113\n"
          ]
        }
      ]
    },
    {
      "cell_type": "markdown",
      "source": [
        "# Results\n",
        "\n"
      ],
      "metadata": {
        "id": "PLxXdWX_nUuL"
      }
    },
    {
      "cell_type": "markdown",
      "source": [
        "### Run 1\n",
        "Epochs: 1 | LR=0.001 | FF(400, 120, 60, 10)\n",
        "```\n",
        "Epoch: 0 Batch: 2000 Loss: 2.209\n",
        "Epoch: 0 Batch: 4000 Loss: 1.867\n",
        "Epoch: 0 Batch: 6000 Loss: 1.660\n",
        "Epoch: 0 Batch: 8000 Loss: 1.585\n",
        "Epoch: 0 Batch: 10000 Loss: 1.498\n",
        "Training Complete\n",
        "Accuracy for class: plane is 51.6 %\n",
        "Accuracy for class: car   is 47.4 %\n",
        "Accuracy for class: bird  is 29.8 %\n",
        "Accuracy for class: cat   is 47.3 %\n",
        "Accuracy for class: deer  is 8.3 %\n",
        "Accuracy for class: dog   is 49.1 %\n",
        "Accuracy for class: frog  is 72.4 %\n",
        "Accuracy for class: horse is 25.5 %\n",
        "Accuracy for class: ship  is 65.7 %\n",
        "Accuracy for class: truck is 62.1 %\n",
        "```\n",
        "\n",
        "### Run 2\n",
        "Epochs: 5 | LR=0.001 | FF(400, 120, 60, 10)\n",
        "```\n",
        "Epoch: 0 Batch: 2000 Loss: 1.468\n",
        "Epoch: 4 Batch: 10000 Loss: 1.022\n",
        "Training Complete\n",
        "Accuracy for class: plane is 62.6 %\n",
        "Accuracy for class: car   is 84.3 %\n",
        "Accuracy for class: bird  is 58.3 %\n",
        "Accuracy for class: cat   is 51.8 %\n",
        "Accuracy for class: deer  is 45.0 %\n",
        "Accuracy for class: dog   is 62.0 %\n",
        "Accuracy for class: frog  is 78.2 %\n",
        "Accuracy for class: horse is 75.4 %\n",
        "Accuracy for class: ship  is 87.7 %\n",
        "Accuracy for class: truck is 71.4 %\n",
        "```"
      ],
      "metadata": {
        "id": "6t2Y4Lkfnyhf"
      }
    }
  ]
}